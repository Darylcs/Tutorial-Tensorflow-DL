{
 "cells": [
  {
   "cell_type": "code",
   "execution_count": 18,
   "metadata": {},
   "outputs": [
    {
     "data": {
      "text/plain": [
       "[[[1, 2, 3]], [[4, 5, 6]]]"
      ]
     },
     "execution_count": 18,
     "metadata": {},
     "output_type": "execute_result"
    }
   ],
   "source": [
    "3 # Tensor de rango 0, escalar con forma []\n",
    "\n",
    "[1, 2, 3] # Tensor de rango 1, vector con forma [3]\n",
    "\n",
    "[\n",
    "    [1, 2, 3],        #Tensor de rango 2, matriz con forma [2,3]; es decir, dos filas y 3 columnas\n",
    "    [4, 5, 6]\n",
    "]\n",
    "\n",
    "[\n",
    "    [[1, 2, 3]],\n",
    "    [[4, 5, 6]]\n",
    "]"
   ]
  },
  {
   "cell_type": "markdown",
   "metadata": {},
   "source": [
    "# TENSORFLOW"
   ]
  },
  {
   "cell_type": "code",
   "execution_count": 19,
   "metadata": {},
   "outputs": [],
   "source": [
    "import tensorflow as tf"
   ]
  },
  {
   "cell_type": "markdown",
   "metadata": {},
   "source": [
    "# VARIABLES"
   ]
  },
  {
   "cell_type": "code",
   "execution_count": 23,
   "metadata": {},
   "outputs": [
    {
     "name": "stdout",
     "output_type": "stream",
     "text": [
      "[array([2.], dtype=float32), array([-1.], dtype=float32)]\n",
      "[1. 3. 5. 7.]\n",
      "[array([3.], dtype=float32), array([-3.], dtype=float32)]\n",
      "[0. 3. 6. 9.]\n"
     ]
    }
   ],
   "source": [
    "A = tf.Variable([2.0], dtype = tf.float32)\n",
    "B = tf.Variable([-1.0], dtype = tf.float32)\n",
    "X = tf.placeholder(tf.float32)\n",
    "\n",
    "salida = A*X + B\n",
    "\n",
    "init = tf.global_variables_initializer()  # Esto se encarga que el grafico inizialice en todas las variables\n",
    "\n",
    "sesion = tf.Session()\n",
    "sesion.run(init)\n",
    "\n",
    "print(sesion.run([A, B]))\n",
    "print(sesion.run(salida, {X: [1, 2, 3, 4]}))\n",
    "\n",
    "Ax = tf.assign(A, A+1) # A = 3\n",
    "Bx = tf.assign(B, B-2) # B = -3\n",
    "print(sesion.run([Ax, Bx]))\n",
    "print(sesion.run(salida, {X: [1, 2, 3, 4]}))"
   ]
  },
  {
   "cell_type": "markdown",
   "metadata": {},
   "source": [
    "# Función constant()\n"
   ]
  },
  {
   "cell_type": "code",
   "execution_count": 3,
   "metadata": {},
   "outputs": [
    {
     "name": "stdout",
     "output_type": "stream",
     "text": [
      "[1 2 3]\n",
      "[ 1.2  32.    4.53]\n",
      "[[b'a' b'b']\n",
      " [b'c' b'd']]\n"
     ]
    }
   ],
   "source": [
    "# Tensores unidimensionales\n",
    "t1 = tf.constant([1, 2, 3])\n",
    "t2 = tf.constant([1.2, 32, 4.53])\n",
    "sesion = tf.Session()\n",
    "print(sesion.run(t1))\n",
    "print(sesion.run(t2))\n",
    "\n",
    "# Tensores bidimensionales\n",
    "t3 = tf.constant([['a','b'],['c', 'd']])\n",
    "print(sesion.run(t3))"
   ]
  },
  {
   "cell_type": "markdown",
   "metadata": {},
   "source": [
    "# Función zeros, ones y fill"
   ]
  },
  {
   "cell_type": "code",
   "execution_count": 4,
   "metadata": {},
   "outputs": [
    {
     "name": "stdout",
     "output_type": "stream",
     "text": [
      "[0. 0. 0. 0. 0.]\n",
      "Bidimensional\n",
      " [[0. 0. 0.]\n",
      " [0. 0. 0.]]\n",
      "\n",
      "Función ones\n",
      "[1. 1. 1. 1.]\n",
      "\n",
      "Función fill\n",
      "[[7 7 7 7]\n",
      " [7 7 7 7]]\n"
     ]
    }
   ],
   "source": [
    "# F. zeros\n",
    "zero_tensor = tf.zeros([5])\n",
    "print(sesion.run(zero_tensor))\n",
    "zero_tensor_bidimens = tf.zeros([2,3])\n",
    "print(\"Bidimensional\\n\",sesion.run(zero_tensor_bidimens))\n",
    "\n",
    "# F. ones\n",
    "one_tensor = tf.ones([4])\n",
    "print(\"\\nFunción ones\")\n",
    "print(sesion.run(one_tensor))\n",
    "\n",
    "#F. fill\n",
    "fill_tensor = tf.fill([2,4], 7) # tf.fill([A,B],C) Devuelve una matriz de AxB, en este caso 2x4, y cada elemento es C (7)\n",
    "print(\"\\nFunción fill\")\n",
    "print(sesion.run(fill_tensor))"
   ]
  },
  {
   "cell_type": "markdown",
   "metadata": {},
   "source": [
    "# Funcion linspace y range"
   ]
  },
  {
   "cell_type": "code",
   "execution_count": 5,
   "metadata": {},
   "outputs": [
    {
     "name": "stdout",
     "output_type": "stream",
     "text": [
      "Función linspace\n",
      " [5. 7. 9.]\n",
      "Función range\n",
      " [ 5  7  9 11 13 15 17 19]\n"
     ]
    }
   ],
   "source": [
    "lin_tensor = tf.linspace(5., 9., 3)\n",
    "print(\"Función linspace\\n\",sesion.run(lin_tensor))\n",
    "rang_tensor = tf.range(5, 20, 2)\n",
    "print(\"Función range\\n\",sesion.run(rang_tensor))"
   ]
  },
  {
   "cell_type": "markdown",
   "metadata": {},
   "source": [
    "# RANDOM_NORMAL"
   ]
  },
  {
   "cell_type": "code",
   "execution_count": 7,
   "metadata": {},
   "outputs": [
    {
     "name": "stdout",
     "output_type": "stream",
     "text": [
      "[-0.52183577  1.15516899  0.36959788  0.1959598  -0.77243594  0.56278039\n",
      " -0.16177729  1.55690825 -0.47431542  1.05583723]\n"
     ]
    }
   ],
   "source": [
    "valores_aleatoreos = tf.random_normal([10], dtype = tf.float64)\n",
    "print(sesion.run(valores_aleatoreos))"
   ]
  },
  {
   "cell_type": "markdown",
   "metadata": {},
   "source": [
    "# RESHAPE"
   ]
  },
  {
   "cell_type": "code",
   "execution_count": 10,
   "metadata": {},
   "outputs": [
    {
     "name": "stdout",
     "output_type": "stream",
     "text": [
      "[[1. 2.]\n",
      " [3. 4.]]\n"
     ]
    }
   ],
   "source": [
    "vector = tf.constant([1., 2., 3., 4.])\n",
    "matriz = tf.reshape(vector, [2, 2])\n",
    "print(sesion.run(matriz))"
   ]
  },
  {
   "cell_type": "markdown",
   "metadata": {},
   "source": [
    "# SLICE"
   ]
  },
  {
   "cell_type": "code",
   "execution_count": 16,
   "metadata": {},
   "outputs": [
    {
     "name": "stdout",
     "output_type": "stream",
     "text": [
      "[[5. 6.]\n",
      " [8. 9.]]\n"
     ]
    }
   ],
   "source": [
    "matriz = tf.constant([[1., 2., 3.], [4., 5., 6.], [7., 8., 9.]])\n",
    "slice_matriz = tf.slice(matriz, [1, 1], [2, 2])\n",
    "print(sesion.run(slice_matriz))"
   ]
  },
  {
   "cell_type": "markdown",
   "metadata": {},
   "source": [
    "# STACK"
   ]
  },
  {
   "cell_type": "code",
   "execution_count": 17,
   "metadata": {},
   "outputs": [
    {
     "name": "stdout",
     "output_type": "stream",
     "text": [
      "[[1. 2.]\n",
      " [3. 4.]\n",
      " [5. 6.]]\n"
     ]
    }
   ],
   "source": [
    "t1 = tf.constant([1., 2.])\n",
    "t2 = tf.constant([3., 4.])\n",
    "t3 = tf.constant([5., 6.])\n",
    "t4 = tf.stack([t1, t2, t3])\n",
    "print(sesion.run(t4))"
   ]
  },
  {
   "cell_type": "markdown",
   "metadata": {},
   "source": [
    "# REGRESIÓN LINEAL"
   ]
  },
  {
   "cell_type": "code",
   "execution_count": 34,
   "metadata": {},
   "outputs": [
    {
     "name": "stdout",
     "output_type": "stream",
     "text": [
      "[array([2.8499963], dtype=float32), array([-6.5285535], dtype=float32)]\n",
      "4.464285\n"
     ]
    },
    {
     "data": {
      "image/png": "[encoded data removed]",
      "text/plain": [
       "<matplotlib.figure.Figure at 0x96cde70cf8>"
      ]
     },
     "metadata": {},
     "output_type": "display_data"
    }
   ],
   "source": [
    "# VARIBLES\n",
    "W = tf.Variable([0.1], dtype = tf.float32)\n",
    "b = tf.Variable([0.1], dtype = tf.float32)\n",
    "# ENTRADA\n",
    "x = tf.placeholder(tf.float32)\n",
    "# SALIDA\n",
    "y = tf.placeholder(tf.float32)\n",
    "# NEURONA - FUNCIÓN\n",
    "reg_lineal = W*x + b\n",
    "# COSTO\n",
    "cost = tf.reduce_sum(tf.square(reg_lineal-y))\n",
    "# OPTIMIZACIÓN - DESCENSO DEL GRADIENTE\n",
    "op = tf.train.GradientDescentOptimizer(learning_rate=0.005)\n",
    "train = op.minimize(cost)\n",
    "# DATOS\n",
    "X_data = [1, 2, 3, 4, 5, 6, 7]\n",
    "Y_data = [-4.2, -0.9, 2.1, 5.5, 7.7, 11.9, 12]\n",
    "# Y = 3x - 7 --> Esto sería la función que mas se acerca\n",
    "# Inicializar las variables\n",
    "init = tf.global_variables_initializer()\n",
    "sess = tf.Session()\n",
    "sess.run(init)\n",
    "# Entrenamiento\n",
    "for i in range(1000): # Iterar 1000 épocas\n",
    "    sess.run(train, {x : X_data, y : Y_data})\n",
    "W_, b_, cost_ = sess.run([W, b, cost], {x: X_data, y: Y_data})\n",
    "print(sess.run([W, b]))\n",
    "print(sess.run(cost, {x : X_data, y : Y_data}))\n",
    "\n",
    "import matplotlib.pyplot as plt\n",
    "plt.plot(X_data, Y_data, 'ro', label = 'Datos')\n",
    "plt.plot(X_data,[W_*Xi + b_ for Xi in X_data], label = 'Ajuste')\n",
    "plt.legend()\n",
    "plt.show()"
   ]
  },
  {
   "cell_type": "code",
   "execution_count": null,
   "metadata": {},
   "outputs": [],
   "source": []
  }
 ],
 "metadata": {
  "kernelspec": {
   "display_name": "Python 3",
   "language": "python",
   "name": "python3"
  },
  "language_info": {
   "codemirror_mode": {
    "name": "ipython",
    "version": 3
   },
   "file_extension": ".py",
   "mimetype": "text/x-python",
   "name": "python",
   "nbconvert_exporter": "python",
   "pygments_lexer": "ipython3",
   "version": "3.6.4"
  }
 },
 "nbformat": 4,
 "nbformat_minor": 2
}
